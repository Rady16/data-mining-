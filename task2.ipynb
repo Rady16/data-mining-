{
  "cells": [
    {
      "cell_type": "markdown",
      "metadata": {
        "id": "jM_Xt2oOw_RV"
      },
      "source": []
    },
    {
      "cell_type": "code",
      "execution_count": 1,
      "metadata": {
        "id": "WfrwHumIwUsB"
      },
      "outputs": [],
      "source": [
        "import pandas as pd\n",
        "from sklearn.preprocessing import StandardScaler, OneHotEncoder\n",
        "from sklearn.impute import SimpleImputer\n",
        "from sklearn.compose import ColumnTransformer\n",
        "from sklearn.pipeline import Pipeline"
      ]
    },
    {
      "cell_type": "code",
      "execution_count": null,
      "metadata": {
        "id": "sd-pkEWAwYYo"
      },
      "outputs": [],
      "source": [
        "# Load the dataset\n",
        "data = pd.read_csv('data.csv')"
      ]
    },
    {
      "cell_type": "code",
      "execution_count": null,
      "metadata": {
        "colab": {
          "base_uri": "https://localhost:8080/",
          "height": 328
        },
        "id": "DQcm9--owjxm",
        "outputId": "e0ad18ed-4e9a-4418-8e42-785edd02b83d"
      },
      "outputs": [],
      "source": [
        "\n",
        "# Define features (X) and target variable (y)\n",
        "X = data.drop('target_column', axis=1)  # Replace 'target_column' with the actual name of the target column\n",
        "y = data['target_column']"
      ]
    },
    {
      "cell_type": "code",
      "execution_count": null,
      "metadata": {
        "colab": {
          "base_uri": "https://localhost:8080/",
          "height": 179
        },
        "id": "6ijBW8DXwu09",
        "outputId": "f266edb1-ba1e-44f7-d260-715daa7093b8"
      },
      "outputs": [],
      "source": [
        "\n",
        "# Identify categorical and numerical columns\n",
        "categorical_cols = X.select_dtypes(include=['object']).columns\n",
        "numerical_cols = X.select_dtypes(exclude=['object']).columns"
      ]
    },
    {
      "cell_type": "code",
      "execution_count": null,
      "metadata": {
        "colab": {
          "base_uri": "https://localhost:8080/",
          "height": 232
        },
        "id": "pj97kS6lw02e",
        "outputId": "f8b507c0-aa1e-4fc3-c2ad-ca687f4f8318"
      },
      "outputs": [],
      "source": [
        "\n",
        "# Create a preprocessing pipeline\n",
        "preprocessor = ColumnTransformer(\n",
        "    transformers=[\n",
        "        ('num', Pipeline(steps=[\n",
        "            ('imputer', SimpleImputer(strategy='mean')),  # Fill missing values in numerical columns with the mean\n",
        "            ('scaler', StandardScaler())  # Standardize numerical values\n",
        "        ]), numerical_cols),\n",
        "        ('cat', Pipeline(steps=[\n",
        "            ('imputer', SimpleImputer(strategy='most_frequent')),  # Fill missing values in categorical columns with the most frequent value\n",
        "            ('encoder', OneHotEncoder(handle_unknown='ignore'))  # Convert categorical variables to one-hot encoding\n",
        "        ]), categorical_cols)\n",
        "    ]\n",
        ")"
      ]
    },
    {
      "cell_type": "code",
      "execution_count": null,
      "metadata": {
        "colab": {
          "base_uri": "https://localhost:8080/",
          "height": 197
        },
        "id": "mRAsRpfDw6H2",
        "outputId": "4daaabca-829a-46f2-83c3-351646d6a6d7"
      },
      "outputs": [],
      "source": [
        "\n",
        "# Apply preprocessing\n",
        "X_processed = preprocessor.fit_transform(X)"
      ]
    }
  ],
  "metadata": {
    "colab": {
      "provenance": []
    },
    "kernelspec": {
      "display_name": "Python 3",
      "name": "python3"
    },
    "language_info": {
      "name": "python"
    }
  },
  "nbformat": 4,
  "nbformat_minor": 0
}
